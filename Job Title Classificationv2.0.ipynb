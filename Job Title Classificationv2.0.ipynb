{
 "cells": [
  {
   "cell_type": "code",
   "execution_count": 66,
   "id": "2cbf754a",
   "metadata": {},
   "outputs": [
    {
     "name": "stderr",
     "output_type": "stream",
     "text": [
      "[nltk_data] Downloading package stopwords to\n",
      "[nltk_data]     C:\\Users\\bindu_pamidi\\AppData\\Roaming\\nltk_data...\n",
      "[nltk_data]   Package stopwords is already up-to-date!\n",
      "[nltk_data] Downloading package wordnet to\n",
      "[nltk_data]     C:\\Users\\bindu_pamidi\\AppData\\Roaming\\nltk_data...\n",
      "[nltk_data]   Package wordnet is already up-to-date!\n",
      "[nltk_data] Downloading package punkt to\n",
      "[nltk_data]     C:\\Users\\bindu_pamidi\\AppData\\Roaming\\nltk_data...\n",
      "[nltk_data]   Package punkt is already up-to-date!\n"
     ]
    }
   ],
   "source": [
    "import pandas as pd\n",
    "import re\n",
    "import json\n",
    "import datetime\n",
    "import pandas as pd\n",
    "import numpy as np\n",
    "import math\n",
    "import nltk\n",
    "import datetime\n",
    "from nltk.corpus import stopwords\n",
    "from nltk.corpus import wordnet\n",
    "nltk.download('stopwords')\n",
    "nltk.download('wordnet')\n",
    "nltk.download('punkt')\n",
    "from nltk.tokenize import word_tokenize\n",
    "from tqdm import tqdm"
   ]
  },
  {
   "cell_type": "code",
   "execution_count": 67,
   "id": "a31043a2",
   "metadata": {},
   "outputs": [],
   "source": [
    "df = pd.read_excel(r'C:\\Finacial Force\\teja_joblevel\\data with job level.xlsx')\n",
    "\n",
    "df['Title'] = df['Title'].astype(str)\n",
    "df['designation_abbr_str'] = df['designation_abbr_str'].astype(str)\n",
    "df=df[['Contact ID 18', 'Title', 'Created Date', 'designation_abbr_str',\n",
    "       'designation', 'designation_count']]"
   ]
  },
  {
   "cell_type": "code",
   "execution_count": 68,
   "id": "913e917c",
   "metadata": {},
   "outputs": [
    {
     "data": {
      "text/plain": [
       "Index(['Contact ID 18', 'Title', 'Created Date', 'designation_abbr_str',\n",
       "       'designation', 'designation_count'],\n",
       "      dtype='object')"
      ]
     },
     "execution_count": 68,
     "metadata": {},
     "output_type": "execute_result"
    }
   ],
   "source": [
    "df.columns"
   ]
  },
  {
   "cell_type": "code",
   "execution_count": 69,
   "id": "baa1ce3e",
   "metadata": {},
   "outputs": [
    {
     "data": {
      "text/plain": [
       "5402"
      ]
     },
     "execution_count": 69,
     "metadata": {},
     "output_type": "execute_result"
    }
   ],
   "source": [
    "with open (r'C:\\Finacial Force\\job-titles.json',\"r\") as f:\n",
    "    data = json.loads(f.read())\n",
    "df_jb = pd.DataFrame(data)\n",
    "df_jb['designation'] = df_jb['job-titles'].apply(lambda x: re.split(\" |&|,\",x)[-1])\n",
    "jb = set(df_jb['designation'].unique())\n",
    "df_jb['designation'].nunique()"
   ]
  },
  {
   "cell_type": "code",
   "execution_count": 70,
   "id": "d4126195",
   "metadata": {},
   "outputs": [],
   "source": [
    "df['designation'] = df['designation_abbr_str'].apply(lambda x: list(set(x.split(\" \"))&jb))\n",
    "df['designation_count'] = df['designation'].apply(lambda x:len(x))"
   ]
  },
  {
   "cell_type": "code",
   "execution_count": 71,
   "id": "b33ca79a",
   "metadata": {},
   "outputs": [
    {
     "data": {
      "text/plain": [
       "973364"
      ]
     },
     "execution_count": 71,
     "metadata": {},
     "output_type": "execute_result"
    }
   ],
   "source": [
    "df['designation_count'].sum()"
   ]
  },
  {
   "cell_type": "code",
   "execution_count": 72,
   "id": "1c1c43a1",
   "metadata": {},
   "outputs": [
    {
     "data": {
      "text/plain": [
       "973364"
      ]
     },
     "execution_count": 72,
     "metadata": {},
     "output_type": "execute_result"
    }
   ],
   "source": [
    "jb_list = [item for sublist in df['designation'].to_list() for item in sublist]\n",
    "len(jb_list)"
   ]
  },
  {
   "cell_type": "code",
   "execution_count": 73,
   "id": "71e1f455",
   "metadata": {},
   "outputs": [],
   "source": [
    "df_designation = pd.DataFrame({'jb_list':jb_list})\n",
    "df_designation = df_designation.reset_index().groupby('jb_list').count().reset_index().rename(columns = {'index':'count'}).sort_values(by = 'count', ascending = False).reset_index(drop = True)"
   ]
  },
  {
   "cell_type": "code",
   "execution_count": 74,
   "id": "6d76d7de",
   "metadata": {},
   "outputs": [],
   "source": [
    "df_designation[df_designation['count']<1000].to_clipboard()"
   ]
  },
  {
   "cell_type": "code",
   "execution_count": 75,
   "id": "6638a8fd",
   "metadata": {},
   "outputs": [
    {
     "data": {
      "text/plain": [
       "(           jb_list  count\n",
       " 127      operation    996\n",
       " 128         public    983\n",
       " 129          audit    977\n",
       " 130       programs    968\n",
       " 131         member    962\n",
       " ...            ...    ...\n",
       " 2300           huc      1\n",
       " 2301        hunter      1\n",
       " 2302  hydrographic      1\n",
       " 2303     sociology      1\n",
       " 2304           zoo      1\n",
       " \n",
       " [2178 rows x 2 columns],\n",
       " 131096)"
      ]
     },
     "execution_count": 75,
     "metadata": {},
     "output_type": "execute_result"
    }
   ],
   "source": [
    "df_designation_top = pd.read_clipboard()\n",
    "# df_designation_top=df_designation[df_designation['count']<1000]\n",
    "df_designation_top,df_designation_top['count'].sum()"
   ]
  },
  {
   "cell_type": "code",
   "execution_count": 76,
   "id": "f54cfb25",
   "metadata": {},
   "outputs": [],
   "source": [
    "# jb_top = list(df_designation_top['jb_list'])\n",
    "jb_top=['director',\n",
    " 'president',\n",
    " 'manager',\n",
    " 'chief',\n",
    " 'officer',\n",
    " 'head',\n",
    " 'executive',\n",
    " 'consultant',\n",
    " 'lead',\n",
    " 'partner',\n",
    " 'assistant',\n",
    " 'analyst',\n",
    " 'associate',\n",
    " 'managing',\n",
    " 'professional',\n",
    " 'engineer',\n",
    " 'administrator',\n",
    " 'controller',\n",
    " 'principal',\n",
    " 'leader',\n",
    " 'architect',\n",
    " 'founder',\n",
    " 'coordinator',\n",
    " 'developer',\n",
    " 'accountant',\n",
    " 'advisor',\n",
    " 'supervisor',\n",
    " 'deputy',\n",
    " 'staff',\n",
    " 'chairman',\n",
    " 'technician',\n",
    " 'representative',\n",
    " 'treasurer',\n",
    " 'secretary',\n",
    " 'employee',\n",
    " 'strategist',\n",
    " 'professor',\n",
    " 'instructor',\n",
    " 'designer',\n",
    " 'coach',\n",
    " 'chairperson',\n",
    " 'recruiter',\n",
    " 'investor',\n",
    " 'partners',\n",
    " 'contractor',\n",
    " 'provider',\n",
    " 'planner',\n",
    " 'scientist',\n",
    " 'student',\n",
    " 'supplier',\n",
    " 'trainer',\n",
    " 'auditor',\n",
    " 'producer',\n",
    " 'directors',\n",
    " 'doctor',\n",
    " 'technologist',\n",
    " 'merchant',\n",
    " 'clerk',\n",
    " 'physician',\n",
    " 'chancellor',\n",
    " 'attorney',\n",
    " 'personnel',\n",
    " 'researcher',\n",
    " 'volunteer',\n",
    " 'payer',\n",
    " 'worker',\n",
    " 'managers',\n",
    " 'entrepreneur']"
   ]
  },
  {
   "cell_type": "code",
   "execution_count": 77,
   "id": "16cadcdb",
   "metadata": {},
   "outputs": [],
   "source": [
    "df['designation_top'] = df['designation'].apply(lambda x: [i for i in jb_top if i in x])\n",
    "df['designation_top_one'] = df['designation_top'].apply(lambda x: x[0] if len(x)>0 else None)\n",
    "df['designation_top_count'] = df['designation_top'].apply(lambda x:len(x))"
   ]
  },
  {
   "cell_type": "code",
   "execution_count": 78,
   "id": "42a6e83a",
   "metadata": {},
   "outputs": [
    {
     "data": {
      "text/plain": [
       "1    158342\n",
       "2     44978\n",
       "0     19597\n",
       "3     13139\n",
       "4      4113\n",
       "5       980\n",
       "6       100\n",
       "7         4\n",
       "8         2\n",
       "Name: designation_top_count, dtype: int64"
      ]
     },
     "execution_count": 78,
     "metadata": {},
     "output_type": "execute_result"
    }
   ],
   "source": [
    "df['designation_top_count'].value_counts()"
   ]
  },
  {
   "cell_type": "code",
   "execution_count": null,
   "id": "7e6d5789",
   "metadata": {},
   "outputs": [],
   "source": []
  },
  {
   "cell_type": "code",
   "execution_count": 112,
   "id": "c2e4ed34",
   "metadata": {},
   "outputs": [],
   "source": [
    "def assign_designation(x):\n",
    "    if 'chief' in x['designation_top']:\n",
    "        if 'officer' in x['designation']:\n",
    "            return 'C-Suite'\n",
    "    if 'founder' in x['designation_top']:\n",
    "        return 'C-Suite'\n",
    "    if 'chairman' in x['designation_top'] or 'chairperson' in x['designation_top']:\n",
    "        return 'C-Suite'\n",
    "    if 'managing' in x['designation_top']:\n",
    "        if 'director' in x['designation_top'] or 'partner' in x['designation_top']:\n",
    "            return 'C-Suite'\n",
    "\n",
    "    if 'president' in x['designation_top']:\n",
    "        if 'vice' in x['designation']:\n",
    "            if 'senior' in x['designation'] or 'sr' in x['designation']:\n",
    "                return 'Senior Vice President'\n",
    "            else:\n",
    "                return 'Vice President'\n",
    "        else:\n",
    "            return 'C-Suite'\n",
    "    if 'svp' in x['designation']:\n",
    "        return 'Senior Vice President'\n",
    "\n",
    "    if 'controller' in x['designation_top']:\n",
    "        if 'senior' in x['designation'] or 'sr' in x['designation']:\n",
    "            return 'Senior Controller'\n",
    "        else:\n",
    "            return 'Controller'\n",
    "        \n",
    "    if 'director' in x['designation_top'] or 'directors' in x['designation_top']:\n",
    "        if 'senior' in x['designation'] or 'sr' in x['designation']:\n",
    "            return 'Senior Director'\n",
    "        else:\n",
    "            return 'Director'\n",
    "    if 'head' in x['designation_top']:\n",
    "        if 'senior' in x['designation'] or 'sr' in x['designation']:\n",
    "            return 'Senior Director'\n",
    "        else:\n",
    "            return 'Director'\n",
    "        \n",
    "    if 'leader' in x['designation_top']:\n",
    "        #add rule based on the functional area : If the area is support domain, this can Other Independent Contributors\n",
    "        if 'senior' in x['designation'] or 'sr' in x['designation']:\n",
    "            return 'Senior Director'\n",
    "        else:\n",
    "            return 'Director'\n",
    "\n",
    "    if 'manager' in x['designation_top'] or 'managers' in x['designation_top']:\n",
    "        if 'senior' in x['designation'] or 'sr' in x['designation']:\n",
    "            return 'Senior Manager'\n",
    "        else:\n",
    "            return 'Manager'\n",
    "        \n",
    "    if 'lead' in x['designation_top']:\n",
    "        if 'team' in x['designation']:\n",
    "            return 'Manager'\n",
    "        \n",
    "    #Can change the support functional areas after function identification.\n",
    "    if len(set([\n",
    "         'consultant',#provide expert opinions, analysis, recommendations to organizations or individuals\n",
    "         'analyst',\n",
    "         'lead',\n",
    "         'executive',\n",
    "         'partner',\n",
    "         'partners',\n",
    "         'chief',\n",
    "         'architect',\n",
    "         'associate',\n",
    "         'principal',\n",
    "         'accountant',\n",
    "         'engineer',\n",
    "         'advisor',\n",
    "         'strategist',\n",
    "         'entrepreneur'\n",
    "         ])&set(x['designation']))>0:\n",
    "            return 'Analyst'\n",
    "    if len(set([\n",
    "        'administrator',\n",
    "        'coordinator',\n",
    "        'officer',\n",
    "        'supervisor',\n",
    "        'assistant',\n",
    "        'developer',\n",
    "        'professional',\n",
    "        'representative',\n",
    "        'technician',\n",
    "        'employee', 'clerk', 'attorney', 'doctor', 'staff', 'contractor',\n",
    "       'treasurer', 'investor', 'designer', 'managing', 'planner',\n",
    "       'scientist', 'trainer', 'producer', 'chancellor', 'instructor',\n",
    "       'researcher', 'recruiter', 'professor', 'worker', 'coach',\n",
    "       'secretary', 'technologist', 'auditor', 'deputy', 'student',\n",
    "       'physician', 'personnel', 'volunteer', 'provider', 'supplier',\n",
    "       'merchant', 'payer','operator',\n",
    "        'support','specialist','intern'\n",
    "        ])&set(x['designation']))>0:\n",
    "            return 'Other Independent Contributor'\n",
    "#     if len(set([\n",
    "#          'business',\n",
    "#         'sales',\n",
    "#         'finance',\n",
    "#         'marketing',\n",
    "#         'product',\n",
    "#         'strategy',\n",
    "#         'solutions',\n",
    "#         'accounting',\n",
    "#         'consulting',\n",
    "#         'enterprise',\n",
    "#         'financial',\n",
    "#         'strategic',\n",
    "#         'accounts'\n",
    "#          ])&set(x['designation']))>0:\n",
    "#             return 'Analyst'\n",
    "#     if len(set([\n",
    "#          'operations',\n",
    "#         'technology',\n",
    "#         'management',\n",
    "#         'information',\n",
    "#         'development',\n",
    "#         'service',\n",
    "#         'customer',\n",
    "#         'systems',\n",
    "#         'engineering',\n",
    "#         'resources',\n",
    "#         'cloud',\n",
    "#         'intern',\n",
    "#         'technical',\n",
    "#         'administration',\n",
    "#         'billing',\n",
    "#         'chef',\n",
    "#         'procurement',\n",
    "#         'research',\n",
    "#         'security',\n",
    "#         'services'\n",
    "#          ])&set(x['designation']))>0:\n",
    "#             return 'Other Independent Contributor'  \n",
    "    return None"
   ]
  },
  {
   "cell_type": "code",
   "execution_count": 113,
   "id": "9ed62515",
   "metadata": {},
   "outputs": [],
   "source": [
    "df['job_level'] = df.apply(lambda x: assign_designation(x), axis = 1)"
   ]
  },
  {
   "cell_type": "code",
   "execution_count": 114,
   "id": "b93f7694",
   "metadata": {},
   "outputs": [
    {
     "data": {
      "text/plain": [
       "Director                         63913\n",
       "Manager                          33524\n",
       "Vice President                   32339\n",
       "C-Suite                          26661\n",
       "Analyst                          26482\n",
       "Other Independent Contributor    13695\n",
       "Senior Director                   9566\n",
       "Senior Vice President             8908\n",
       "Senior Manager                    8642\n",
       "Controller                        2153\n",
       "Senior Controller                  224\n",
       "Name: job_level, dtype: int64"
      ]
     },
     "execution_count": 114,
     "metadata": {},
     "output_type": "execute_result"
    }
   ],
   "source": [
    "df['job_level'].value_counts()"
   ]
  },
  {
   "cell_type": "code",
   "execution_count": 115,
   "id": "a80c8950",
   "metadata": {},
   "outputs": [
    {
     "data": {
      "text/plain": [
       "Director                         63913\n",
       "Manager                          33524\n",
       "Vice President                   32339\n",
       "C-Suite                          26661\n",
       "Analyst                          26482\n",
       "Other Independent Contributor    13695\n",
       "Senior Director                   9566\n",
       "Senior Vice President             8908\n",
       "Senior Manager                    8642\n",
       "Controller                        2153\n",
       "Senior Controller                  224\n",
       "Name: job_level, dtype: int64"
      ]
     },
     "execution_count": 115,
     "metadata": {},
     "output_type": "execute_result"
    }
   ],
   "source": [
    "df['job_level'].value_counts()"
   ]
  },
  {
   "cell_type": "code",
   "execution_count": 116,
   "id": "07bfa2e3",
   "metadata": {
    "scrolled": true
   },
   "outputs": [
    {
     "data": {
      "text/plain": [
       "Contact ID 18                0\n",
       "Title                        0\n",
       "Created Date                 0\n",
       "designation_abbr_str         0\n",
       "designation                  0\n",
       "designation_count            0\n",
       "designation_top              0\n",
       "designation_top_one      19597\n",
       "designation_top_count        0\n",
       "job_level                15148\n",
       "functional_list              0\n",
       "functional_list1             0\n",
       "dtype: int64"
      ]
     },
     "execution_count": 116,
     "metadata": {},
     "output_type": "execute_result"
    }
   ],
   "source": [
    "df.isnull().sum()"
   ]
  },
  {
   "cell_type": "code",
   "execution_count": 29,
   "id": "56bb8095",
   "metadata": {},
   "outputs": [
    {
     "data": {
      "text/plain": [
       "0.03367805848583449"
      ]
     },
     "execution_count": 29,
     "metadata": {},
     "output_type": "execute_result"
    }
   ],
   "source": [
    "8125/len(df)"
   ]
  },
  {
   "cell_type": "code",
   "execution_count": 33,
   "id": "5297fa1d",
   "metadata": {},
   "outputs": [
    {
     "data": {
      "text/html": [
       "<div>\n",
       "<style scoped>\n",
       "    .dataframe tbody tr th:only-of-type {\n",
       "        vertical-align: middle;\n",
       "    }\n",
       "\n",
       "    .dataframe tbody tr th {\n",
       "        vertical-align: top;\n",
       "    }\n",
       "\n",
       "    .dataframe thead th {\n",
       "        text-align: right;\n",
       "    }\n",
       "</style>\n",
       "<table border=\"1\" class=\"dataframe\">\n",
       "  <thead>\n",
       "    <tr style=\"text-align: right;\">\n",
       "      <th></th>\n",
       "      <th>Contact ID 18</th>\n",
       "      <th>Title</th>\n",
       "      <th>Created Date</th>\n",
       "      <th>designation_abbr_str</th>\n",
       "      <th>designation</th>\n",
       "      <th>designation_count</th>\n",
       "      <th>designation_top</th>\n",
       "      <th>designation_top_one</th>\n",
       "      <th>designation_top_count</th>\n",
       "      <th>job_level</th>\n",
       "    </tr>\n",
       "  </thead>\n",
       "  <tbody>\n",
       "  </tbody>\n",
       "</table>\n",
       "</div>"
      ],
      "text/plain": [
       "Empty DataFrame\n",
       "Columns: [Contact ID 18, Title, Created Date, designation_abbr_str, designation, designation_count, designation_top, designation_top_one, designation_top_count, job_level]\n",
       "Index: []"
      ]
     },
     "execution_count": 33,
     "metadata": {},
     "output_type": "execute_result"
    }
   ],
   "source": [
    "df[(df['job_level'].isnull())&df['designation'].isin([['enterprise']])]"
   ]
  },
  {
   "cell_type": "code",
   "execution_count": 83,
   "id": "183c8844",
   "metadata": {},
   "outputs": [
    {
     "data": {
      "text/plain": [
       "30963"
      ]
     },
     "execution_count": 83,
     "metadata": {},
     "output_type": "execute_result"
    }
   ],
   "source": [
    "jb_list_left = [item for sublist in df[(df['job_level'].isnull())]['designation'].to_list() for item in sublist]\n",
    "len(jb_list_left)"
   ]
  },
  {
   "cell_type": "code",
   "execution_count": 84,
   "id": "9608610e",
   "metadata": {},
   "outputs": [],
   "source": [
    "df_designation_left = pd.DataFrame({'jb_list':jb_list_left})\n",
    "df_designation_left = df_designation_left.reset_index().groupby('jb_list').count().reset_index().rename(columns = {'index':'count'}).sort_values(by = 'count', ascending = False).reset_index(drop = True)"
   ]
  },
  {
   "cell_type": "code",
   "execution_count": 36,
   "id": "0f3b324b",
   "metadata": {},
   "outputs": [],
   "source": [
    "df_designation_left.to_clipboard()"
   ]
  },
  {
   "cell_type": "code",
   "execution_count": 37,
   "id": "c12ec2f7",
   "metadata": {},
   "outputs": [
    {
     "data": {
      "text/html": [
       "<div>\n",
       "<style scoped>\n",
       "    .dataframe tbody tr th:only-of-type {\n",
       "        vertical-align: middle;\n",
       "    }\n",
       "\n",
       "    .dataframe tbody tr th {\n",
       "        vertical-align: top;\n",
       "    }\n",
       "\n",
       "    .dataframe thead th {\n",
       "        text-align: right;\n",
       "    }\n",
       "</style>\n",
       "<table border=\"1\" class=\"dataframe\">\n",
       "  <thead>\n",
       "    <tr style=\"text-align: right;\">\n",
       "      <th></th>\n",
       "      <th>Contact ID 18</th>\n",
       "      <th>Title</th>\n",
       "      <th>Created Date</th>\n",
       "      <th>designation_abbr_str</th>\n",
       "      <th>designation</th>\n",
       "      <th>designation_count</th>\n",
       "      <th>designation_top</th>\n",
       "      <th>designation_top_one</th>\n",
       "      <th>designation_top_count</th>\n",
       "      <th>job_level</th>\n",
       "    </tr>\n",
       "  </thead>\n",
       "  <tbody>\n",
       "  </tbody>\n",
       "</table>\n",
       "</div>"
      ],
      "text/plain": [
       "Empty DataFrame\n",
       "Columns: [Contact ID 18, Title, Created Date, designation_abbr_str, designation, designation_count, designation_top, designation_top_one, designation_top_count, job_level]\n",
       "Index: []"
      ]
     },
     "execution_count": 37,
     "metadata": {},
     "output_type": "execute_result"
    }
   ],
   "source": [
    "df[(df['job_level'].isnull())&~(df['designation_top_one'].isnull())&(df['designation_top_one']=='managing')]"
   ]
  },
  {
   "cell_type": "code",
   "execution_count": 39,
   "id": "81eddf61",
   "metadata": {},
   "outputs": [
    {
     "data": {
      "text/html": [
       "<div>\n",
       "<style scoped>\n",
       "    .dataframe tbody tr th:only-of-type {\n",
       "        vertical-align: middle;\n",
       "    }\n",
       "\n",
       "    .dataframe tbody tr th {\n",
       "        vertical-align: top;\n",
       "    }\n",
       "\n",
       "    .dataframe thead th {\n",
       "        text-align: right;\n",
       "    }\n",
       "</style>\n",
       "<table border=\"1\" class=\"dataframe\">\n",
       "  <thead>\n",
       "    <tr style=\"text-align: right;\">\n",
       "      <th></th>\n",
       "      <th>Contact ID 18</th>\n",
       "      <th>Title</th>\n",
       "      <th>Created Date</th>\n",
       "      <th>designation_abbr_str</th>\n",
       "      <th>designation</th>\n",
       "      <th>designation_count</th>\n",
       "      <th>designation_top</th>\n",
       "      <th>designation_top_one</th>\n",
       "      <th>designation_top_count</th>\n",
       "      <th>job_level</th>\n",
       "    </tr>\n",
       "  </thead>\n",
       "  <tbody>\n",
       "    <tr>\n",
       "      <th>2</th>\n",
       "      <td>0033000000FArFRAA1</td>\n",
       "      <td>nan</td>\n",
       "      <td>2006-01-17</td>\n",
       "      <td>nan</td>\n",
       "      <td>[]</td>\n",
       "      <td>0</td>\n",
       "      <td>[]</td>\n",
       "      <td>None</td>\n",
       "      <td>0</td>\n",
       "      <td>None</td>\n",
       "    </tr>\n",
       "    <tr>\n",
       "      <th>5</th>\n",
       "      <td>0033000000RRjX5AAL</td>\n",
       "      <td>Operator</td>\n",
       "      <td>2008-01-21</td>\n",
       "      <td>operator</td>\n",
       "      <td>[operator]</td>\n",
       "      <td>1</td>\n",
       "      <td>[]</td>\n",
       "      <td>None</td>\n",
       "      <td>0</td>\n",
       "      <td>Other Independent Contributor</td>\n",
       "    </tr>\n",
       "    <tr>\n",
       "      <th>10</th>\n",
       "      <td>0033000000TOfg0AAD</td>\n",
       "      <td>General Manageme</td>\n",
       "      <td>2008-05-29</td>\n",
       "      <td>general manageme</td>\n",
       "      <td>[general]</td>\n",
       "      <td>1</td>\n",
       "      <td>[]</td>\n",
       "      <td>None</td>\n",
       "      <td>0</td>\n",
       "      <td>None</td>\n",
       "    </tr>\n",
       "    <tr>\n",
       "      <th>12</th>\n",
       "      <td>0033000000TPBrsAAH</td>\n",
       "      <td>Mr</td>\n",
       "      <td>2008-06-02</td>\n",
       "      <td>mr</td>\n",
       "      <td>[]</td>\n",
       "      <td>0</td>\n",
       "      <td>[]</td>\n",
       "      <td>None</td>\n",
       "      <td>0</td>\n",
       "      <td>None</td>\n",
       "    </tr>\n",
       "    <tr>\n",
       "      <th>37</th>\n",
       "      <td>0033000000UJWVMAA5</td>\n",
       "      <td>SE</td>\n",
       "      <td>2008-09-02</td>\n",
       "      <td>se</td>\n",
       "      <td>[]</td>\n",
       "      <td>0</td>\n",
       "      <td>[]</td>\n",
       "      <td>None</td>\n",
       "      <td>0</td>\n",
       "      <td>None</td>\n",
       "    </tr>\n",
       "    <tr>\n",
       "      <th>...</th>\n",
       "      <td>...</td>\n",
       "      <td>...</td>\n",
       "      <td>...</td>\n",
       "      <td>...</td>\n",
       "      <td>...</td>\n",
       "      <td>...</td>\n",
       "      <td>...</td>\n",
       "      <td>...</td>\n",
       "      <td>...</td>\n",
       "      <td>...</td>\n",
       "    </tr>\n",
       "    <tr>\n",
       "      <th>241203</th>\n",
       "      <td>0034Q00003GDfAUQA1</td>\n",
       "      <td>Team Member Operational Support</td>\n",
       "      <td>2022-04-07</td>\n",
       "      <td>support team member operational</td>\n",
       "      <td>[member, support, team, operational]</td>\n",
       "      <td>4</td>\n",
       "      <td>[]</td>\n",
       "      <td>None</td>\n",
       "      <td>0</td>\n",
       "      <td>Other Independent Contributor</td>\n",
       "    </tr>\n",
       "    <tr>\n",
       "      <th>241241</th>\n",
       "      <td>0034Q00003GDn7uQAD</td>\n",
       "      <td>Directeur IT opérationnel</td>\n",
       "      <td>2022-04-08</td>\n",
       "      <td>opérationnel information technology directeur</td>\n",
       "      <td>[technology, information]</td>\n",
       "      <td>2</td>\n",
       "      <td>[]</td>\n",
       "      <td>None</td>\n",
       "      <td>0</td>\n",
       "      <td>Other Independent Contributor</td>\n",
       "    </tr>\n",
       "    <tr>\n",
       "      <th>241242</th>\n",
       "      <td>0034Q00003GDkfMQAT</td>\n",
       "      <td>Commercial Finance - Technology &amp; Innovation</td>\n",
       "      <td>2022-04-08</td>\n",
       "      <td>finance commercial technology innovation</td>\n",
       "      <td>[finance, commercial, technology]</td>\n",
       "      <td>3</td>\n",
       "      <td>[]</td>\n",
       "      <td>None</td>\n",
       "      <td>0</td>\n",
       "      <td>Analyst</td>\n",
       "    </tr>\n",
       "    <tr>\n",
       "      <th>241247</th>\n",
       "      <td>0034Q00003GDl3gQAD</td>\n",
       "      <td>Signee</td>\n",
       "      <td>2022-04-08</td>\n",
       "      <td>signee</td>\n",
       "      <td>[]</td>\n",
       "      <td>0</td>\n",
       "      <td>[]</td>\n",
       "      <td>None</td>\n",
       "      <td>0</td>\n",
       "      <td>None</td>\n",
       "    </tr>\n",
       "    <tr>\n",
       "      <th>241251</th>\n",
       "      <td>0034Q00003GDn7nQAD</td>\n",
       "      <td>SVP Global Customer Experience</td>\n",
       "      <td>2022-04-08</td>\n",
       "      <td>svp customer global experience</td>\n",
       "      <td>[experience, global, customer, svp]</td>\n",
       "      <td>4</td>\n",
       "      <td>[]</td>\n",
       "      <td>None</td>\n",
       "      <td>0</td>\n",
       "      <td>Senior Vice President</td>\n",
       "    </tr>\n",
       "  </tbody>\n",
       "</table>\n",
       "<p>19597 rows × 10 columns</p>\n",
       "</div>"
      ],
      "text/plain": [
       "             Contact ID 18                                         Title  \\\n",
       "2       0033000000FArFRAA1                                           nan   \n",
       "5       0033000000RRjX5AAL                                      Operator   \n",
       "10      0033000000TOfg0AAD                              General Manageme   \n",
       "12      0033000000TPBrsAAH                                            Mr   \n",
       "37      0033000000UJWVMAA5                                            SE   \n",
       "...                    ...                                           ...   \n",
       "241203  0034Q00003GDfAUQA1               Team Member Operational Support   \n",
       "241241  0034Q00003GDn7uQAD                     Directeur IT opérationnel   \n",
       "241242  0034Q00003GDkfMQAT  Commercial Finance - Technology & Innovation   \n",
       "241247  0034Q00003GDl3gQAD                                        Signee   \n",
       "241251  0034Q00003GDn7nQAD                SVP Global Customer Experience   \n",
       "\n",
       "       Created Date                           designation_abbr_str  \\\n",
       "2        2006-01-17                                            nan   \n",
       "5        2008-01-21                                       operator   \n",
       "10       2008-05-29                               general manageme   \n",
       "12       2008-06-02                                             mr   \n",
       "37       2008-09-02                                             se   \n",
       "...             ...                                            ...   \n",
       "241203   2022-04-07                support team member operational   \n",
       "241241   2022-04-08  opérationnel information technology directeur   \n",
       "241242   2022-04-08       finance commercial technology innovation   \n",
       "241247   2022-04-08                                         signee   \n",
       "241251   2022-04-08                 svp customer global experience   \n",
       "\n",
       "                                 designation  designation_count  \\\n",
       "2                                         []                  0   \n",
       "5                                 [operator]                  1   \n",
       "10                                 [general]                  1   \n",
       "12                                        []                  0   \n",
       "37                                        []                  0   \n",
       "...                                      ...                ...   \n",
       "241203  [member, support, team, operational]                  4   \n",
       "241241             [technology, information]                  2   \n",
       "241242     [finance, commercial, technology]                  3   \n",
       "241247                                    []                  0   \n",
       "241251   [experience, global, customer, svp]                  4   \n",
       "\n",
       "       designation_top designation_top_one  designation_top_count  \\\n",
       "2                   []                None                      0   \n",
       "5                   []                None                      0   \n",
       "10                  []                None                      0   \n",
       "12                  []                None                      0   \n",
       "37                  []                None                      0   \n",
       "...                ...                 ...                    ...   \n",
       "241203              []                None                      0   \n",
       "241241              []                None                      0   \n",
       "241242              []                None                      0   \n",
       "241247              []                None                      0   \n",
       "241251              []                None                      0   \n",
       "\n",
       "                            job_level  \n",
       "2                                None  \n",
       "5       Other Independent Contributor  \n",
       "10                               None  \n",
       "12                               None  \n",
       "37                               None  \n",
       "...                               ...  \n",
       "241203  Other Independent Contributor  \n",
       "241241  Other Independent Contributor  \n",
       "241242                        Analyst  \n",
       "241247                           None  \n",
       "241251          Senior Vice President  \n",
       "\n",
       "[19597 rows x 10 columns]"
      ]
     },
     "execution_count": 39,
     "metadata": {},
     "output_type": "execute_result"
    }
   ],
   "source": [
    "df[df['designation_top_one'].isnull()]"
   ]
  },
  {
   "cell_type": "code",
   "execution_count": 40,
   "id": "1d60ce9d",
   "metadata": {},
   "outputs": [
    {
     "data": {
      "text/html": [
       "<div>\n",
       "<style scoped>\n",
       "    .dataframe tbody tr th:only-of-type {\n",
       "        vertical-align: middle;\n",
       "    }\n",
       "\n",
       "    .dataframe tbody tr th {\n",
       "        vertical-align: top;\n",
       "    }\n",
       "\n",
       "    .dataframe thead th {\n",
       "        text-align: right;\n",
       "    }\n",
       "</style>\n",
       "<table border=\"1\" class=\"dataframe\">\n",
       "  <thead>\n",
       "    <tr style=\"text-align: right;\">\n",
       "      <th></th>\n",
       "      <th>Contact ID 18</th>\n",
       "      <th>Title</th>\n",
       "      <th>Created Date</th>\n",
       "      <th>designation_abbr_str</th>\n",
       "      <th>designation</th>\n",
       "      <th>designation_count</th>\n",
       "      <th>designation_top</th>\n",
       "      <th>designation_top_one</th>\n",
       "      <th>designation_top_count</th>\n",
       "      <th>job_level</th>\n",
       "    </tr>\n",
       "  </thead>\n",
       "  <tbody>\n",
       "    <tr>\n",
       "      <th>2</th>\n",
       "      <td>0033000000FArFRAA1</td>\n",
       "      <td>nan</td>\n",
       "      <td>2006-01-17</td>\n",
       "      <td>nan</td>\n",
       "      <td>[]</td>\n",
       "      <td>0</td>\n",
       "      <td>[]</td>\n",
       "      <td>None</td>\n",
       "      <td>0</td>\n",
       "      <td>None</td>\n",
       "    </tr>\n",
       "    <tr>\n",
       "      <th>12</th>\n",
       "      <td>0033000000TPBrsAAH</td>\n",
       "      <td>Mr</td>\n",
       "      <td>2008-06-02</td>\n",
       "      <td>mr</td>\n",
       "      <td>[]</td>\n",
       "      <td>0</td>\n",
       "      <td>[]</td>\n",
       "      <td>None</td>\n",
       "      <td>0</td>\n",
       "      <td>None</td>\n",
       "    </tr>\n",
       "    <tr>\n",
       "      <th>37</th>\n",
       "      <td>0033000000UJWVMAA5</td>\n",
       "      <td>SE</td>\n",
       "      <td>2008-09-02</td>\n",
       "      <td>se</td>\n",
       "      <td>[]</td>\n",
       "      <td>0</td>\n",
       "      <td>[]</td>\n",
       "      <td>None</td>\n",
       "      <td>0</td>\n",
       "      <td>None</td>\n",
       "    </tr>\n",
       "    <tr>\n",
       "      <th>39</th>\n",
       "      <td>0033000000UKrFOAA1</td>\n",
       "      <td>Left</td>\n",
       "      <td>2008-09-12</td>\n",
       "      <td>left</td>\n",
       "      <td>[]</td>\n",
       "      <td>0</td>\n",
       "      <td>[]</td>\n",
       "      <td>None</td>\n",
       "      <td>0</td>\n",
       "      <td>None</td>\n",
       "    </tr>\n",
       "    <tr>\n",
       "      <th>45</th>\n",
       "      <td>0033000000UMH74AAH</td>\n",
       "      <td>RVP, ESB APAC</td>\n",
       "      <td>2008-10-02</td>\n",
       "      <td>esb apac rvp</td>\n",
       "      <td>[]</td>\n",
       "      <td>0</td>\n",
       "      <td>[]</td>\n",
       "      <td>None</td>\n",
       "      <td>0</td>\n",
       "      <td>None</td>\n",
       "    </tr>\n",
       "    <tr>\n",
       "      <th>...</th>\n",
       "      <td>...</td>\n",
       "      <td>...</td>\n",
       "      <td>...</td>\n",
       "      <td>...</td>\n",
       "      <td>...</td>\n",
       "      <td>...</td>\n",
       "      <td>...</td>\n",
       "      <td>...</td>\n",
       "      <td>...</td>\n",
       "      <td>...</td>\n",
       "    </tr>\n",
       "    <tr>\n",
       "      <th>240777</th>\n",
       "      <td>0034Q00003FWV7cQAH</td>\n",
       "      <td>Advokatfirmaet Simonsen Vogt Wiig AS</td>\n",
       "      <td>2022-04-01</td>\n",
       "      <td>wiig advokatfirmaet as vogt simonsen</td>\n",
       "      <td>[]</td>\n",
       "      <td>0</td>\n",
       "      <td>[]</td>\n",
       "      <td>None</td>\n",
       "      <td>0</td>\n",
       "      <td>None</td>\n",
       "    </tr>\n",
       "    <tr>\n",
       "      <th>241090</th>\n",
       "      <td>0034Q00003GDCxxQAH</td>\n",
       "      <td>Se, Sfs - Cmt</td>\n",
       "      <td>2022-04-05</td>\n",
       "      <td>sfs cmt se</td>\n",
       "      <td>[]</td>\n",
       "      <td>0</td>\n",
       "      <td>[]</td>\n",
       "      <td>None</td>\n",
       "      <td>0</td>\n",
       "      <td>None</td>\n",
       "    </tr>\n",
       "    <tr>\n",
       "      <th>241095</th>\n",
       "      <td>0034Q00003GD28bQAD</td>\n",
       "      <td>Growth PO</td>\n",
       "      <td>2022-04-05</td>\n",
       "      <td>growth po</td>\n",
       "      <td>[]</td>\n",
       "      <td>0</td>\n",
       "      <td>[]</td>\n",
       "      <td>None</td>\n",
       "      <td>0</td>\n",
       "      <td>None</td>\n",
       "    </tr>\n",
       "    <tr>\n",
       "      <th>241134</th>\n",
       "      <td>0034Q00003GD6I3QAL</td>\n",
       "      <td>Renewals</td>\n",
       "      <td>2022-04-05</td>\n",
       "      <td>renewals</td>\n",
       "      <td>[]</td>\n",
       "      <td>0</td>\n",
       "      <td>[]</td>\n",
       "      <td>None</td>\n",
       "      <td>0</td>\n",
       "      <td>None</td>\n",
       "    </tr>\n",
       "    <tr>\n",
       "      <th>241247</th>\n",
       "      <td>0034Q00003GDl3gQAD</td>\n",
       "      <td>Signee</td>\n",
       "      <td>2022-04-08</td>\n",
       "      <td>signee</td>\n",
       "      <td>[]</td>\n",
       "      <td>0</td>\n",
       "      <td>[]</td>\n",
       "      <td>None</td>\n",
       "      <td>0</td>\n",
       "      <td>None</td>\n",
       "    </tr>\n",
       "  </tbody>\n",
       "</table>\n",
       "<p>2725 rows × 10 columns</p>\n",
       "</div>"
      ],
      "text/plain": [
       "             Contact ID 18                                 Title Created Date  \\\n",
       "2       0033000000FArFRAA1                                   nan   2006-01-17   \n",
       "12      0033000000TPBrsAAH                                    Mr   2008-06-02   \n",
       "37      0033000000UJWVMAA5                                    SE   2008-09-02   \n",
       "39      0033000000UKrFOAA1                                  Left   2008-09-12   \n",
       "45      0033000000UMH74AAH                         RVP, ESB APAC   2008-10-02   \n",
       "...                    ...                                   ...          ...   \n",
       "240777  0034Q00003FWV7cQAH  Advokatfirmaet Simonsen Vogt Wiig AS   2022-04-01   \n",
       "241090  0034Q00003GDCxxQAH                         Se, Sfs - Cmt   2022-04-05   \n",
       "241095  0034Q00003GD28bQAD                             Growth PO   2022-04-05   \n",
       "241134  0034Q00003GD6I3QAL                              Renewals   2022-04-05   \n",
       "241247  0034Q00003GDl3gQAD                                Signee   2022-04-08   \n",
       "\n",
       "                        designation_abbr_str designation  designation_count  \\\n",
       "2                                        nan          []                  0   \n",
       "12                                        mr          []                  0   \n",
       "37                                        se          []                  0   \n",
       "39                                      left          []                  0   \n",
       "45                              esb apac rvp          []                  0   \n",
       "...                                      ...         ...                ...   \n",
       "240777  wiig advokatfirmaet as vogt simonsen          []                  0   \n",
       "241090                            sfs cmt se          []                  0   \n",
       "241095                             growth po          []                  0   \n",
       "241134                              renewals          []                  0   \n",
       "241247                                signee          []                  0   \n",
       "\n",
       "       designation_top designation_top_one  designation_top_count job_level  \n",
       "2                   []                None                      0      None  \n",
       "12                  []                None                      0      None  \n",
       "37                  []                None                      0      None  \n",
       "39                  []                None                      0      None  \n",
       "45                  []                None                      0      None  \n",
       "...                ...                 ...                    ...       ...  \n",
       "240777              []                None                      0      None  \n",
       "241090              []                None                      0      None  \n",
       "241095              []                None                      0      None  \n",
       "241134              []                None                      0      None  \n",
       "241247              []                None                      0      None  \n",
       "\n",
       "[2725 rows x 10 columns]"
      ]
     },
     "execution_count": 40,
     "metadata": {},
     "output_type": "execute_result"
    }
   ],
   "source": [
    "df[df['designation_count']==0]"
   ]
  },
  {
   "cell_type": "code",
   "execution_count": null,
   "id": "dff199be",
   "metadata": {},
   "outputs": [],
   "source": [
    "df.to_excel('data with job level.xlsx',index=False)"
   ]
  },
  {
   "cell_type": "markdown",
   "id": "38bfd96d",
   "metadata": {},
   "source": [
    "# Logic for Functional words"
   ]
  },
  {
   "cell_type": "code",
   "execution_count": 126,
   "id": "3489fef8",
   "metadata": {},
   "outputs": [
    {
     "data": {
      "text/plain": [
       "['desktop',\n",
       " 'accounts',\n",
       " 'developer',\n",
       " 'operations',\n",
       " 'controller',\n",
       " 'technology',\n",
       " 'service',\n",
       " 'training',\n",
       " 'engineer',\n",
       " 'web',\n",
       " 'market',\n",
       " 'project',\n",
       " 'information technology',\n",
       " 'bookkeeper',\n",
       " 'engineering',\n",
       " 'consultant',\n",
       " 'accountant',\n",
       " 'accounting',\n",
       " 'finance',\n",
       " 'field service',\n",
       " 'internet',\n",
       " 'compensation',\n",
       " 'sales',\n",
       " 'mechatronic',\n",
       " 'resource',\n",
       " 'information',\n",
       " 'sourcing',\n",
       " 'project management',\n",
       " 'recruiting',\n",
       " 'procurement',\n",
       " 'marketing',\n",
       " 'ops',\n",
       " 'management',\n",
       " 'human',\n",
       " 'full stack',\n",
       " 'computer',\n",
       " 'Stockholders',\n",
       " 'supplier',\n",
       " 'suppliers',\n",
       " 'bank',\n",
       " 'banks',\n",
       " 'transaction',\n",
       " 'transactions',\n",
       " 'reporting',\n",
       " 'financial',\n",
       " 'vendors',\n",
       " 'invoices',\n",
       " 'Employee Relations',\n",
       " 'Employee Engagement',\n",
       " 'L&D',\n",
       " 'Generalist',\n",
       " 'HRBP',\n",
       " 'Human Resources Business Partner',\n",
       " 'Executive',\n",
       " 'Campus Recruiting',\n",
       " 'customer care',\n",
       " 'customer satisfaction',\n",
       " 'customer services']"
      ]
     },
     "execution_count": 126,
     "metadata": {},
     "output_type": "execute_result"
    }
   ],
   "source": [
    "df_functional_words=pd.read_excel(r\"C:\\Finacial Force\\teja_joblevel\\job_level_count.xlsx\",sheet_name='functionalwords',header=1)\n",
    "list(df_functional_words['functionalwords'])"
   ]
  },
  {
   "cell_type": "code",
   "execution_count": 167,
   "id": "0de752c6",
   "metadata": {},
   "outputs": [
    {
     "name": "stderr",
     "output_type": "stream",
     "text": [
      "100%|██████████████████████████████████████████████████████████████████████████████████| 52/52 [00:28<00:00,  1.84it/s]\n"
     ]
    }
   ],
   "source": [
    "def apply_map_job(x,word):\n",
    "    word_list=set([i.lower() for i in word.split()])\n",
    "    title_words=set([i.lower() for i in x.split()])\n",
    "    if len(word_list-title_words)==0:\n",
    "        return word+' & '\n",
    "#     if word.lower() in [i.lower() for i in x]:\n",
    "#         return word+' & '\n",
    "    return ''\n",
    "functional_words=list(df_functional_words['functionalwords'])\n",
    "# functional_words=list(set(functional_words))\n",
    "functional_words=list(set(functional_words)-set(jb_top))\n",
    "df['functional_list']=''\n",
    "for func in tqdm(functional_words):\n",
    "    df['functional_list1']=''\n",
    "    df['functional_list1']=df['designation_abbr_str'].apply(apply_map_job,args=(func,))\n",
    "    df['functional_list']+=df['functional_list1']"
   ]
  },
  {
   "cell_type": "code",
   "execution_count": 183,
   "id": "4a6369b8",
   "metadata": {},
   "outputs": [
    {
     "data": {
      "text/plain": [
       "['vendors',\n",
       " 'accounts',\n",
       " 'engineering',\n",
       " 'mechatronic',\n",
       " 'recruiting',\n",
       " 'Human Resources Business Partner',\n",
       " 'information',\n",
       " 'Campus Recruiting',\n",
       " 'customer care',\n",
       " 'computer',\n",
       " 'Employee Relations',\n",
       " 'project',\n",
       " 'management',\n",
       " 'sourcing',\n",
       " 'Stockholders',\n",
       " 'bookkeeper',\n",
       " 'service',\n",
       " 'web',\n",
       " 'sales',\n",
       " 'financial',\n",
       " 'customer services',\n",
       " 'operations',\n",
       " 'compensation',\n",
       " 'reporting',\n",
       " 'banks',\n",
       " 'HRBP',\n",
       " 'transactions',\n",
       " 'invoices',\n",
       " 'Employee Engagement',\n",
       " 'desktop',\n",
       " 'finance',\n",
       " 'L&D',\n",
       " 'accounting',\n",
       " 'customer satisfaction',\n",
       " 'information technology',\n",
       " 'Executive',\n",
       " 'full stack',\n",
       " 'Generalist',\n",
       " 'training',\n",
       " 'technology',\n",
       " 'resource',\n",
       " 'transaction',\n",
       " 'procurement',\n",
       " 'market',\n",
       " 'ops',\n",
       " 'project management',\n",
       " 'suppliers',\n",
       " 'field service',\n",
       " 'human',\n",
       " 'internet',\n",
       " 'marketing',\n",
       " 'bank']"
      ]
     },
     "execution_count": 183,
     "metadata": {},
     "output_type": "execute_result"
    }
   ],
   "source": [
    "functional_words"
   ]
  },
  {
   "cell_type": "markdown",
   "id": "fad27585",
   "metadata": {},
   "source": [
    "### now list of functional words"
   ]
  },
  {
   "cell_type": "code",
   "execution_count": 184,
   "id": "d4f59bc3",
   "metadata": {},
   "outputs": [
    {
     "data": {
      "text/plain": [
       "FreqDist({'technology': 34765, 'information': 30772, 'operations': 23671, 'management': 15394, 'project': 14521, 'Executive': 13637, 'finance': 12584, 'financial': 11367, 'sales': 10883, 'service': 7812, ...})"
      ]
     },
     "execution_count": 184,
     "metadata": {},
     "output_type": "execute_result"
    }
   ],
   "source": [
    "import numpy as np\n",
    "l=\" \".join(list(map(lambda x:' '.join(x),np.array(df['functional_list'].apply(lambda x:x.split(' & '))))))\n",
    "freq_words_functional=nltk.FreqDist(l.split())\n",
    "freq_words_functional"
   ]
  },
  {
   "cell_type": "code",
   "execution_count": 185,
   "id": "15d48ed8",
   "metadata": {},
   "outputs": [
    {
     "data": {
      "text/plain": [
       "{'information': 30772,\n",
       " 'management': 15394,\n",
       " 'financial': 11367,\n",
       " 'marketing': 5841,\n",
       " 'operations': 23671,\n",
       " 'Executive': 13637,\n",
       " 'sales': 10883,\n",
       " 'engineering': 3967,\n",
       " 'accounts': 1617,\n",
       " 'customer': 911,\n",
       " 'services': 637,\n",
       " 'finance': 12584,\n",
       " 'technology': 34765,\n",
       " 'service': 7812,\n",
       " 'market': 1239,\n",
       " 'procurement': 1410,\n",
       " 'accounting': 3827,\n",
       " 'project': 14521,\n",
       " 'sourcing': 588,\n",
       " 'human': 5861,\n",
       " 'care': 248,\n",
       " 'web': 427,\n",
       " 'resource': 2790,\n",
       " 'compensation': 415,\n",
       " 'training': 1044,\n",
       " 'bookkeeper': 46,\n",
       " 'reporting': 1337,\n",
       " 'computer': 192,\n",
       " 'desktop': 103,\n",
       " 'recruiting': 463,\n",
       " 'internet': 115,\n",
       " 'transaction': 147,\n",
       " 'field': 220,\n",
       " 'invoices': 15,\n",
       " 'bank': 187,\n",
       " 'Generalist': 110,\n",
       " 'transactions': 64,\n",
       " 'full': 27,\n",
       " 'stack': 27,\n",
       " 'satisfaction': 26,\n",
       " 'Human': 150,\n",
       " 'Resources': 150,\n",
       " 'Business': 150,\n",
       " 'Partner': 150,\n",
       " 'Employee': 126,\n",
       " 'Relations': 89,\n",
       " 'Engagement': 37,\n",
       " 'vendors': 5,\n",
       " 'suppliers': 8,\n",
       " 'Campus': 8,\n",
       " 'Recruiting': 8,\n",
       " 'banks': 19,\n",
       " 'mechatronic': 1}"
      ]
     },
     "execution_count": 185,
     "metadata": {},
     "output_type": "execute_result"
    }
   ],
   "source": [
    "dict(freq_words_functional)"
   ]
  },
  {
   "cell_type": "markdown",
   "id": "e5fb1abd",
   "metadata": {},
   "source": [
    "<b>now get frequecy of words in nonfunctional records</b>"
   ]
  },
  {
   "cell_type": "code",
   "execution_count": 170,
   "id": "4634178e",
   "metadata": {},
   "outputs": [
    {
     "data": {
      "text/html": [
       "<div>\n",
       "<style scoped>\n",
       "    .dataframe tbody tr th:only-of-type {\n",
       "        vertical-align: middle;\n",
       "    }\n",
       "\n",
       "    .dataframe tbody tr th {\n",
       "        vertical-align: top;\n",
       "    }\n",
       "\n",
       "    .dataframe thead th {\n",
       "        text-align: right;\n",
       "    }\n",
       "</style>\n",
       "<table border=\"1\" class=\"dataframe\">\n",
       "  <thead>\n",
       "    <tr style=\"text-align: right;\">\n",
       "      <th></th>\n",
       "      <th>Contact ID 18</th>\n",
       "      <th>Title</th>\n",
       "      <th>Created Date</th>\n",
       "      <th>designation_abbr_str</th>\n",
       "      <th>designation</th>\n",
       "      <th>designation_count</th>\n",
       "      <th>designation_top</th>\n",
       "      <th>designation_top_one</th>\n",
       "      <th>designation_top_count</th>\n",
       "      <th>job_level</th>\n",
       "      <th>functional_list</th>\n",
       "      <th>functional_list1</th>\n",
       "    </tr>\n",
       "  </thead>\n",
       "  <tbody>\n",
       "    <tr>\n",
       "      <th>0</th>\n",
       "      <td>0033000000Ev6cRAAR</td>\n",
       "      <td>Pres</td>\n",
       "      <td>2006-01-12</td>\n",
       "      <td>president</td>\n",
       "      <td>[president]</td>\n",
       "      <td>1</td>\n",
       "      <td>[president]</td>\n",
       "      <td>president</td>\n",
       "      <td>1</td>\n",
       "      <td>C-Suite</td>\n",
       "      <td></td>\n",
       "      <td></td>\n",
       "    </tr>\n",
       "    <tr>\n",
       "      <th>1</th>\n",
       "      <td>0033000000Ev6cSAAR</td>\n",
       "      <td>Manager</td>\n",
       "      <td>2006-01-12</td>\n",
       "      <td>manager</td>\n",
       "      <td>[manager]</td>\n",
       "      <td>1</td>\n",
       "      <td>[manager]</td>\n",
       "      <td>manager</td>\n",
       "      <td>1</td>\n",
       "      <td>Manager</td>\n",
       "      <td></td>\n",
       "      <td></td>\n",
       "    </tr>\n",
       "    <tr>\n",
       "      <th>2</th>\n",
       "      <td>0033000000FArFRAA1</td>\n",
       "      <td>nan</td>\n",
       "      <td>2006-01-17</td>\n",
       "      <td>nan</td>\n",
       "      <td>[]</td>\n",
       "      <td>0</td>\n",
       "      <td>[]</td>\n",
       "      <td>None</td>\n",
       "      <td>0</td>\n",
       "      <td>None</td>\n",
       "      <td></td>\n",
       "      <td></td>\n",
       "    </tr>\n",
       "    <tr>\n",
       "      <th>3</th>\n",
       "      <td>0033000000FWaRLAA1</td>\n",
       "      <td>Director</td>\n",
       "      <td>2006-01-27</td>\n",
       "      <td>director</td>\n",
       "      <td>[director]</td>\n",
       "      <td>1</td>\n",
       "      <td>[director]</td>\n",
       "      <td>director</td>\n",
       "      <td>1</td>\n",
       "      <td>Director</td>\n",
       "      <td></td>\n",
       "      <td></td>\n",
       "    </tr>\n",
       "    <tr>\n",
       "      <th>5</th>\n",
       "      <td>0033000000RRjX5AAL</td>\n",
       "      <td>Operator</td>\n",
       "      <td>2008-01-21</td>\n",
       "      <td>operator</td>\n",
       "      <td>[operator]</td>\n",
       "      <td>1</td>\n",
       "      <td>[]</td>\n",
       "      <td>None</td>\n",
       "      <td>0</td>\n",
       "      <td>Other Independent Contributor</td>\n",
       "      <td></td>\n",
       "      <td></td>\n",
       "    </tr>\n",
       "  </tbody>\n",
       "</table>\n",
       "</div>"
      ],
      "text/plain": [
       "        Contact ID 18     Title Created Date designation_abbr_str  \\\n",
       "0  0033000000Ev6cRAAR      Pres   2006-01-12            president   \n",
       "1  0033000000Ev6cSAAR   Manager   2006-01-12              manager   \n",
       "2  0033000000FArFRAA1       nan   2006-01-17                  nan   \n",
       "3  0033000000FWaRLAA1  Director   2006-01-27             director   \n",
       "5  0033000000RRjX5AAL  Operator   2008-01-21             operator   \n",
       "\n",
       "   designation  designation_count designation_top designation_top_one  \\\n",
       "0  [president]                  1     [president]           president   \n",
       "1    [manager]                  1       [manager]             manager   \n",
       "2           []                  0              []                None   \n",
       "3   [director]                  1      [director]            director   \n",
       "5   [operator]                  1              []                None   \n",
       "\n",
       "   designation_top_count                      job_level functional_list  \\\n",
       "0                      1                        C-Suite                   \n",
       "1                      1                        Manager                   \n",
       "2                      0                           None                   \n",
       "3                      1                       Director                   \n",
       "5                      0  Other Independent Contributor                   \n",
       "\n",
       "  functional_list1  \n",
       "0                   \n",
       "1                   \n",
       "2                   \n",
       "3                   \n",
       "5                   "
      ]
     },
     "execution_count": 170,
     "metadata": {},
     "output_type": "execute_result"
    }
   ],
   "source": [
    "# df['functional_list']\n",
    "df.columns\n",
    "df_nonfunctional=df[df['functional_list']=='']\n",
    "df_nonfunctional.head()"
   ]
  },
  {
   "cell_type": "code",
   "execution_count": 171,
   "id": "b8f58bb3",
   "metadata": {},
   "outputs": [
    {
     "data": {
      "text/plain": [
       "FreqDist({'director': 28712, 'president': 21217, 'manager': 20243, 'vice': 19129, 'senior': 17480, 'services': 17337, 'of': 10173, 'and': 9092, 'business': 7913, 'head': 7635, ...})"
      ]
     },
     "execution_count": 171,
     "metadata": {},
     "output_type": "execute_result"
    }
   ],
   "source": [
    "#list of designations\n",
    "# l_non_functional\n",
    "l_non_functional=\" \".join(list(map(lambda x:' '.join(x),np.array(df_nonfunctional['designation_abbr_str'].apply(lambda x:x.split())))))\n",
    "# l_non_functional\n",
    "freq_words_nonfunctional=nltk.FreqDist(l_non_functional.split())\n",
    "freq_words_nonfunctional"
   ]
  },
  {
   "cell_type": "markdown",
   "id": "7c784d03",
   "metadata": {},
   "source": [
    "<b>\n",
    "    <li>we got frequecy in functional and non functional words</li>\n",
    "</b>"
   ]
  },
  {
   "cell_type": "code",
   "execution_count": 172,
   "id": "ecb5c387",
   "metadata": {},
   "outputs": [],
   "source": [
    "#https://pandas.pydata.org/pandas-docs/stable/reference/api/pandas.DataFrame.to_excel.html\n",
    "df_functiona_words_freq=pd.DataFrame(list(dict(freq_words_functional).items()) ,columns=['word','frequency'])\n",
    "df_nonfunctiona_words_freq=pd.DataFrame(list(dict(freq_words_nonfunctional).items()) ,columns=['word','frequency'])\n",
    "                        "
   ]
  },
  {
   "cell_type": "code",
   "execution_count": 134,
   "id": "796d6591",
   "metadata": {},
   "outputs": [],
   "source": [
    "with pd.ExcelWriter('C:/Finacial Force/functional/word_frequencyv2.0.xlsx') as writer:\n",
    "    df_functiona_words_freq.to_excel(writer,sheet_name='functional words')\n",
    "    df_nonfunctiona_words_freq.to_excel(writer,sheet_name='word frequecy nonfunc')"
   ]
  },
  {
   "cell_type": "code",
   "execution_count": 135,
   "id": "daeab7d3",
   "metadata": {},
   "outputs": [
    {
     "data": {
      "text/html": [
       "<div>\n",
       "<style scoped>\n",
       "    .dataframe tbody tr th:only-of-type {\n",
       "        vertical-align: middle;\n",
       "    }\n",
       "\n",
       "    .dataframe tbody tr th {\n",
       "        vertical-align: top;\n",
       "    }\n",
       "\n",
       "    .dataframe thead th {\n",
       "        text-align: right;\n",
       "    }\n",
       "</style>\n",
       "<table border=\"1\" class=\"dataframe\">\n",
       "  <thead>\n",
       "    <tr style=\"text-align: right;\">\n",
       "      <th></th>\n",
       "      <th>Contact ID 18</th>\n",
       "      <th>Title</th>\n",
       "      <th>Created Date</th>\n",
       "      <th>designation_abbr_str</th>\n",
       "      <th>designation</th>\n",
       "      <th>designation_count</th>\n",
       "      <th>designation_top</th>\n",
       "      <th>designation_top_one</th>\n",
       "      <th>designation_top_count</th>\n",
       "      <th>job_level</th>\n",
       "      <th>functional_list</th>\n",
       "      <th>functional_list1</th>\n",
       "    </tr>\n",
       "  </thead>\n",
       "  <tbody>\n",
       "    <tr>\n",
       "      <th>227719</th>\n",
       "      <td>0034Q00003D9J6XQAV</td>\n",
       "      <td>( 2017 Vice President, Accounting &amp; Finance &amp; ...</td>\n",
       "      <td>2021-12-09</td>\n",
       "      <td>accounting 2017 finance 2012 assistant present...</td>\n",
       "      <td>[finance, president, vice, assistant, accounting]</td>\n",
       "      <td>5</td>\n",
       "      <td>[president, assistant]</td>\n",
       "      <td>president</td>\n",
       "      <td>2</td>\n",
       "      <td>Vice President</td>\n",
       "      <td></td>\n",
       "      <td></td>\n",
       "    </tr>\n",
       "  </tbody>\n",
       "</table>\n",
       "</div>"
      ],
      "text/plain": [
       "             Contact ID 18                                              Title  \\\n",
       "227719  0034Q00003D9J6XQAV  ( 2017 Vice President, Accounting & Finance & ...   \n",
       "\n",
       "       Created Date                               designation_abbr_str  \\\n",
       "227719   2021-12-09  accounting 2017 finance 2012 assistant present...   \n",
       "\n",
       "                                              designation  designation_count  \\\n",
       "227719  [finance, president, vice, assistant, accounting]                  5   \n",
       "\n",
       "               designation_top designation_top_one  designation_top_count  \\\n",
       "227719  [president, assistant]           president                      2   \n",
       "\n",
       "             job_level functional_list functional_list1  \n",
       "227719  Vice President                                   "
      ]
     },
     "execution_count": 135,
     "metadata": {},
     "output_type": "execute_result"
    }
   ],
   "source": [
    "df[df['Contact ID 18']=='0034Q00003D9J6XQAV']"
   ]
  },
  {
   "cell_type": "code",
   "execution_count": 173,
   "id": "b9a34e87",
   "metadata": {},
   "outputs": [
    {
     "name": "stdout",
     "output_type": "stream",
     "text": [
      "no of records which have functional key words are : (126483, 12)\n",
      "no of records which dont have functional key words are : (114772, 12)\n"
     ]
    }
   ],
   "source": [
    "print(\"no of records which have functional key words are :\",df[df['functional_list']!=''].shape)\n",
    "print(\"no of records which dont have functional key words are :\",df[df['functional_list']==''].shape)\n",
    "# df[df['functional_list']!=''].shape"
   ]
  },
  {
   "cell_type": "code",
   "execution_count": 65,
   "id": "ddef22b0",
   "metadata": {},
   "outputs": [],
   "source": [
    "# df_nonfunctiona_words_freq[df_nonfunctiona_words_freq['frequency']>1000]\n",
    "# jb_top\n",
    "df_nonfunctiona_words_freq[~df_nonfunctiona_words_freq['word'].str.contains('|'.join(jb_top),regex=True)].to_excel(r'C:\\Finacial Force\\154functional roles\\nonfunctional words no designation.xlsx',index=False)"
   ]
  },
  {
   "cell_type": "markdown",
   "id": "08293779",
   "metadata": {},
   "source": [
    "## non functional words dataframe"
   ]
  },
  {
   "cell_type": "code",
   "execution_count": 174,
   "id": "4075d58c",
   "metadata": {},
   "outputs": [
    {
     "name": "stdout",
     "output_type": "stream",
     "text": [
      "(114772, 12)\n"
     ]
    }
   ],
   "source": [
    "df_non_functional=df[df['functional_list']=='']\n",
    "print(df_non_functional.shape)"
   ]
  },
  {
   "cell_type": "code",
   "execution_count": 175,
   "id": "493d5cbb",
   "metadata": {},
   "outputs": [
    {
     "name": "stdout",
     "output_type": "stream",
     "text": [
      "(17654, 3)\n",
      "Index(['word', 'frequency', 'flag'], dtype='object')\n"
     ]
    }
   ],
   "source": [
    "df_func_100_nonfunc=pd.read_excel(r'C:\\Finacial Force\\154functional roles\\nonfunctional words no designation.xlsx',header=1,usecols='B:D')\n",
    "# with open(r'C:\\Finacial Force\\154functional roles\\nonfunctional words no designation.xlsx') as excel:\n",
    "#     df_func_100_nonfunc=pd.read_excel(excel,header=1,usecols='B:D')\n",
    "print(df_func_100_nonfunc.shape)\n",
    "print(df_func_100_nonfunc.columns)"
   ]
  },
  {
   "cell_type": "code",
   "execution_count": 176,
   "id": "d3271224",
   "metadata": {},
   "outputs": [
    {
     "data": {
      "text/html": [
       "<div>\n",
       "<style scoped>\n",
       "    .dataframe tbody tr th:only-of-type {\n",
       "        vertical-align: middle;\n",
       "    }\n",
       "\n",
       "    .dataframe tbody tr th {\n",
       "        vertical-align: top;\n",
       "    }\n",
       "\n",
       "    .dataframe thead th {\n",
       "        text-align: right;\n",
       "    }\n",
       "</style>\n",
       "<table border=\"1\" class=\"dataframe\">\n",
       "  <thead>\n",
       "    <tr style=\"text-align: right;\">\n",
       "      <th></th>\n",
       "      <th>word</th>\n",
       "      <th>frequency</th>\n",
       "      <th>flag</th>\n",
       "    </tr>\n",
       "  </thead>\n",
       "  <tbody>\n",
       "    <tr>\n",
       "      <th>1</th>\n",
       "      <td>services</td>\n",
       "      <td>16877</td>\n",
       "      <td>1.0</td>\n",
       "    </tr>\n",
       "    <tr>\n",
       "      <th>5</th>\n",
       "      <td>business</td>\n",
       "      <td>7308</td>\n",
       "      <td>1.0</td>\n",
       "    </tr>\n",
       "    <tr>\n",
       "      <th>7</th>\n",
       "      <td>development</td>\n",
       "      <td>4976</td>\n",
       "      <td>1.0</td>\n",
       "    </tr>\n",
       "    <tr>\n",
       "      <th>8</th>\n",
       "      <td>solutions</td>\n",
       "      <td>3908</td>\n",
       "      <td>1.0</td>\n",
       "    </tr>\n",
       "    <tr>\n",
       "      <th>9</th>\n",
       "      <td>delivery</td>\n",
       "      <td>3558</td>\n",
       "      <td>1.0</td>\n",
       "    </tr>\n",
       "  </tbody>\n",
       "</table>\n",
       "</div>"
      ],
      "text/plain": [
       "          word  frequency  flag\n",
       "1     services      16877   1.0\n",
       "5     business       7308   1.0\n",
       "7  development       4976   1.0\n",
       "8    solutions       3908   1.0\n",
       "9     delivery       3558   1.0"
      ]
     },
     "execution_count": 176,
     "metadata": {},
     "output_type": "execute_result"
    }
   ],
   "source": [
    "df_func_100_nonfunc=df_func_100_nonfunc[(df_func_100_nonfunc['frequency']>100) & (df_func_100_nonfunc['flag']==1)]\n",
    "df_func_100_nonfunc.head()"
   ]
  },
  {
   "cell_type": "code",
   "execution_count": 177,
   "id": "bed84484",
   "metadata": {},
   "outputs": [
    {
     "name": "stderr",
     "output_type": "stream",
     "text": [
      "100%|██████████████████████████████████████████████████████████████████████████████████| 89/89 [00:21<00:00,  4.17it/s]\n"
     ]
    }
   ],
   "source": [
    "import warnings\n",
    "warnings.filterwarnings(\"ignore\")\n",
    "\n",
    "df_non_functional.head()\n",
    "def apply_map_nonfunc_word(x,word):\n",
    "    word_list=set([i.lower() for i in word.split()])\n",
    "    title_words=set([i.lower() for i in x.split()])\n",
    "    if len(word_list-title_words)==0:\n",
    "        return word+' & '\n",
    "#     if word.lower() in [i.lower() for i in x]:\n",
    "#         return word+' & '\n",
    "    return ''\n",
    "nonfunctional_words_freq=list(df_func_100_nonfunc['word'])\n",
    "nonfunctional_words_freq=list(set(nonfunctional_words_freq))\n",
    "df_non_functional['non_functional_list']=''\n",
    "for func in tqdm(nonfunctional_words_freq):\n",
    "    df_non_functional['nonfunctional_list1']=''\n",
    "    df_non_functional['nonfunctional_list1']=df_non_functional['designation_abbr_str'].apply(apply_map_nonfunc_word,args=(func,))\n",
    "    df_non_functional['non_functional_list']+=df_non_functional['nonfunctional_list1']"
   ]
  },
  {
   "cell_type": "code",
   "execution_count": 178,
   "id": "3f7b0ccf",
   "metadata": {},
   "outputs": [
    {
     "data": {
      "text/plain": [
       "(42896, 14)"
      ]
     },
     "execution_count": 178,
     "metadata": {},
     "output_type": "execute_result"
    }
   ],
   "source": [
    "df_non_functional[df_non_functional['non_functional_list']==''].shape\n",
    "# df_non_functional.columns"
   ]
  },
  {
   "cell_type": "code",
   "execution_count": 186,
   "id": "52e89c71",
   "metadata": {},
   "outputs": [
    {
     "data": {
      "text/plain": [
       "FreqDist({'services': 17330, 'business': 7911, 'development': 5158, 'solutions': 4182, 'delivery': 3629, 'customer': 3443, 'strategy': 3440, 'consulting': 3203, 'support': 2988, 'systems': 2948, ...})"
      ]
     },
     "execution_count": 186,
     "metadata": {},
     "output_type": "execute_result"
    }
   ],
   "source": [
    "import numpy as np\n",
    "l=\" \".join(list(map(lambda x:' '.join(x),np.array(df_non_functional['non_functional_list'].apply(lambda x:x.split(' & '))))))\n",
    "freq_words_non100functional=nltk.FreqDist(l.split())\n",
    "freq_words_non100functional"
   ]
  },
  {
   "cell_type": "code",
   "execution_count": 187,
   "id": "6610a8ec",
   "metadata": {},
   "outputs": [
    {
     "data": {
      "text/plain": [
       "{'infrastructure': 1034,\n",
       " 'audit': 621,\n",
       " 'technical': 2520,\n",
       " 'salesforce': 2508,\n",
       " 'account': 1449,\n",
       " 'solution': 1410,\n",
       " 'business': 7911,\n",
       " 'services': 17330,\n",
       " 'application': 1242,\n",
       " 'specialist': 2246,\n",
       " 'recruitment': 224,\n",
       " 'development': 5158,\n",
       " 'administrative,': 468,\n",
       " 'administration,': 468,\n",
       " 'billing': 413,\n",
       " 'team': 1521,\n",
       " 'delivery': 3629,\n",
       " 'operation': 624,\n",
       " 'strategy': 3440,\n",
       " 'editor': 111,\n",
       " 'solutions': 4182,\n",
       " 'design': 735,\n",
       " 'oracle': 206,\n",
       " 'operating': 1577,\n",
       " 'logistics': 364,\n",
       " 'program': 1923,\n",
       " 'production': 527,\n",
       " 'customer': 3443,\n",
       " 'support': 2988,\n",
       " 'strategic': 1909,\n",
       " 'systems': 2948,\n",
       " 'insurance': 316,\n",
       " 'software': 1387,\n",
       " 'sap': 441,\n",
       " 'cloud': 1460,\n",
       " 'consulting': 3203,\n",
       " 'relations': 839,\n",
       " 'content': 389,\n",
       " 'manufacturing': 327,\n",
       " 'digital': 2089,\n",
       " 'investments': 146,\n",
       " 'programmer': 140,\n",
       " 'legal': 436,\n",
       " 'revenue': 845,\n",
       " 'tax': 776,\n",
       " 'medical': 394,\n",
       " 'analytics': 1462,\n",
       " 'clinical': 661,\n",
       " 'planning': 1562,\n",
       " 'operational': 481,\n",
       " 'healthcare': 466,\n",
       " 'consumer': 303,\n",
       " 'insights': 294,\n",
       " 'laboratory': 148,\n",
       " 'talent': 865,\n",
       " 'education': 486,\n",
       " 'payroll': 362,\n",
       " 'banking': 386,\n",
       " 'investment': 512,\n",
       " 'equity': 176,\n",
       " 'contracts': 233,\n",
       " 'creative': 348,\n",
       " 'science': 313,\n",
       " 'payments': 165,\n",
       " 'payment': 111,\n",
       " 'telecommunications': 143,\n",
       " 'broker': 123,\n",
       " 'learning': 482,\n",
       " 'database': 292,\n",
       " 'ux': 136,\n",
       " 'deployment': 131,\n",
       " 'onboarding': 161,\n",
       " 'trade': 123,\n",
       " 'health': 680,\n",
       " 'nurse': 152,\n",
       " 'safety': 324,\n",
       " 'bi': 181,\n",
       " 'maintenance': 160,\n",
       " 'automation': 294,\n",
       " 'distribution': 286,\n",
       " 'cyber': 172,\n",
       " 'devops': 158,\n",
       " 'trading': 148,\n",
       " 'facilities': 344,\n",
       " 'sciences': 235,\n",
       " 'construction': 320,\n",
       " 'transportation': 161,\n",
       " 'claims': 133,\n",
       " 'culture': 152}"
      ]
     },
     "execution_count": 187,
     "metadata": {},
     "output_type": "execute_result"
    }
   ],
   "source": [
    "dict(freq_words_non100functional)"
   ]
  },
  {
   "cell_type": "code",
   "execution_count": 180,
   "id": "38fae166",
   "metadata": {},
   "outputs": [
    {
     "data": {
      "text/plain": [
       "(114772, 14)"
      ]
     },
     "execution_count": 180,
     "metadata": {},
     "output_type": "execute_result"
    }
   ],
   "source": [
    "df_non_functional.shape"
   ]
  },
  {
   "cell_type": "code",
   "execution_count": 179,
   "id": "638ddbca",
   "metadata": {},
   "outputs": [],
   "source": [
    "with pd.ExcelWriter(r'C:\\Finacial Force\\184functional\\job title functional.xlsx') as writer:\n",
    "    df.to_excel(writer,sheet_name='functional words')\n",
    "    df_non_functional.to_excel(writer,sheet_name='non functional 2')"
   ]
  },
  {
   "cell_type": "markdown",
   "id": "b5601d9a",
   "metadata": {},
   "source": [
    "# Load tejaswinis data"
   ]
  },
  {
   "cell_type": "code",
   "execution_count": null,
   "id": "ea483cd4",
   "metadata": {},
   "outputs": [],
   "source": [
    "df=pd.read_excel(\"C:/Finacial Force/teja_joblevel/data with job level.xlsx\")"
   ]
  },
  {
   "cell_type": "code",
   "execution_count": null,
   "id": "60a31130",
   "metadata": {},
   "outputs": [],
   "source": [
    "print(df.columns)"
   ]
  },
  {
   "cell_type": "code",
   "execution_count": null,
   "id": "f9b2235e",
   "metadata": {},
   "outputs": [],
   "source": [
    "df.groupby(['job_level']).count()"
   ]
  },
  {
   "cell_type": "code",
   "execution_count": null,
   "id": "3634c79b",
   "metadata": {},
   "outputs": [],
   "source": [
    "# df['job_level'].unique()\n",
    "# np.isnan(df['job_level'].unique())\n",
    "# list(df['job_level'].unique()[2])\n",
    "l= list(df['job_level'].unique())\n",
    "l.remove(np.nan)\n",
    "l"
   ]
  },
  {
   "cell_type": "code",
   "execution_count": null,
   "id": "9ec24533",
   "metadata": {},
   "outputs": [],
   "source": [
    "#generate random 100 records\n",
    "#https://numpy.org/doc/stable/reference/random/generated/numpy.random.randint.html\n",
    "import numpy as np\n",
    "with pd.ExcelWriter('C:/Finacial Force/teja_joblevel/random data each with job level.xlsx') as writer:\n",
    "    job_levels=list(df['job_level'].unique())\n",
    "    job_levels.remove(np.nan)\n",
    "    for job_level in job_levels:\n",
    "        rand_list=np.random.randint(low=0,high=df[df['job_level']==job_level].shape[0]-1,size=100)\n",
    "        df[df['job_level']==job_level].iloc[rand_list].to_excel(writer,sheet_name=job_level)\n",
    "#     rand_list=np.random.randint(low=0,high=df.shape[0]-1,size=100)\n",
    "#     df.iloc[rand_list].to_excel(writer,sheet_name='random 1')\n",
    "#     rand_list=np.random.randint(low=0,high=df.shape[0]-1,size=100)\n",
    "#     df.loc[rand_list].to_excel(writer,sheet_name='random 2')"
   ]
  },
  {
   "cell_type": "markdown",
   "id": "319be1db",
   "metadata": {},
   "source": [
    "# Filterout unwanted job titles based on conditions"
   ]
  },
  {
   "cell_type": "code",
   "execution_count": null,
   "id": "543bfc7e",
   "metadata": {},
   "outputs": [],
   "source": [
    "df['Title']=df['Title'].astype(str)\n",
    "print(\"shape of dataframe before applying rule 1 is :\",df.shape)\n",
    "#rule 1\n",
    "#https://www.guru99.com/python-regular-expressions-complete-tutorial.html\n",
    "df['rule1']=df['Title'].apply(lambda x:True if re.search(r'directeur',x) else False)\n",
    "# df=df[df['rule1']==False]\n",
    "#rule 2\n",
    "df['rule2']=df['Title'].apply(lambda x:x.isascii())\n",
    "#rule 3\n",
    "df['rule3']=df['Title'].apply(lambda x:x.isascii())"
   ]
  },
  {
   "cell_type": "code",
   "execution_count": null,
   "id": "4e11a458",
   "metadata": {},
   "outputs": [],
   "source": [
    "df['job_level'].isna()\n",
    "# df.groupby(['job_level']).count()\n",
    "df[df['job_level'].isna()]"
   ]
  },
  {
   "cell_type": "code",
   "execution_count": null,
   "id": "d78e9bb7",
   "metadata": {},
   "outputs": [],
   "source": [
    "df.isnull().sum()"
   ]
  }
 ],
 "metadata": {
  "kernelspec": {
   "display_name": "Python 3 (ipykernel)",
   "language": "python",
   "name": "python3"
  },
  "language_info": {
   "codemirror_mode": {
    "name": "ipython",
    "version": 3
   },
   "file_extension": ".py",
   "mimetype": "text/x-python",
   "name": "python",
   "nbconvert_exporter": "python",
   "pygments_lexer": "ipython3",
   "version": "3.9.7"
  }
 },
 "nbformat": 4,
 "nbformat_minor": 5
}
