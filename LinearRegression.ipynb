{
 "cells": [
  {
   "cell_type": "code",
   "execution_count": null,
   "id": "53926027",
   "metadata": {},
   "outputs": [],
   "source": [
    "import numpy as np\n",
    "#https://www.askpython.com/python/examples/logistic-regression-from-scratch#:~:text=Implementing%20Logistic%20Regression%20from%20Scratch%20Step-1%3A%20Understanding%20the,we%20want%20to%20optimize%20a%20loss...%20Step-3%3A%20 \n",
    "class LinearRegression:\n",
    "    def __init__(self,x,y):      \n",
    "        self.intercept = np.ones((x.shape[0], 1))  \n",
    "        self.x = np.concatenate((self.intercept, x), axis=1)\n",
    "        self.weight = np.random.normal(self.x.shape[1])\n",
    "        self.y = y\n",
    "    #method to calculate the Loss\n",
    "    def loss(self, y_pred, y):\n",
    "        '''\n",
    "        loss function for logistic regression\n",
    "        '''\n",
    "        return np.square(y-y_pred).mean()\n",
    "\n",
    "    #Method for calculating the gradients\n",
    "    def gradient_descent(self, X, y_pred, y):\n",
    "        '''\n",
    "        Gradient descent\n",
    "        '''\n",
    "        return np.dot(X.T,(y-y_pred))/y.shape[0]\n",
    "#         return np.dot(X.T, (h - y)) / y.shape[0]\n",
    " \n",
    "    def predicted_value(x,w):\n",
    "        return np.dot(x,w)+self.intercept\n",
    "    \n",
    "    def fit(self, lr , iterations):\n",
    "        for i in range(iterations):\n",
    "            y_pred = self.predicted_value(self.x, self.weight)\n",
    "             \n",
    "            loss = self.loss(y_pred,self.y)\n",
    " \n",
    "            dW = self.gradient_descent(self.x , y_pred, self.y)\n",
    "             \n",
    "            #Updating the weights\n",
    "            self.weight -= lr * dW\n",
    " \n",
    "        return print('fitted successfully to data')\n",
    "     \n",
    "    #Method to predict the class label.\n",
    "    def predict(self, x_new ):\n",
    "        x_new = np.concatenate((self.intercept, x_new), axis=1)\n",
    "        result = self.predicted_value(x_new, self.weight)\n",
    "#         result = result >= treshold\n",
    "        y_pred = result\n",
    "        for i in range(len(y_pred)):\n",
    "            if result[i] == True: \n",
    "                y_pred[i] = 1\n",
    "            else:\n",
    "                continue\n",
    "                 \n",
    "        return y_pred"
   ]
  }
 ],
 "metadata": {
  "kernelspec": {
   "display_name": "Python 3 (ipykernel)",
   "language": "python",
   "name": "python3"
  },
  "language_info": {
   "codemirror_mode": {
    "name": "ipython",
    "version": 3
   },
   "file_extension": ".py",
   "mimetype": "text/x-python",
   "name": "python",
   "nbconvert_exporter": "python",
   "pygments_lexer": "ipython3",
   "version": "3.9.7"
  }
 },
 "nbformat": 4,
 "nbformat_minor": 5
}
